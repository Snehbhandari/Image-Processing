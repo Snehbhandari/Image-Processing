{
 "cells": [
  {
   "cell_type": "code",
   "execution_count": 3,
   "metadata": {},
   "outputs": [],
   "source": [
    "import numpy as np\n",
    "import os \n",
    "from dotenv import load_dotenv\n",
    "import google.generativeai as genai\n",
    "from langchain_core.messages import HumanMessage\n",
    "from langchain_google_genai import ChatGoogleGenerativeAI"
   ]
  },
  {
   "cell_type": "code",
   "execution_count": 4,
   "metadata": {},
   "outputs": [
    {
     "data": {
      "text/plain": [
       "True"
      ]
     },
     "execution_count": 4,
     "metadata": {},
     "output_type": "execute_result"
    }
   ],
   "source": [
    "load_dotenv()"
   ]
  },
  {
   "cell_type": "code",
   "execution_count": 89,
   "metadata": {},
   "outputs": [],
   "source": [
    "# Access the Google Application Credentials - checking\n",
    "# google_credentials_path = os.getenv(\"GOOGLE_APPLICATION_CREDENTIALS\")\n",
    "# if google_credentials_path is None:\n",
    "#     print(\"GOOGLE_APPLICATION_CREDENTIALS is not set.\")\n",
    "# else:\n",
    "#     print(\"GOOGLE_APPLICATION_CREDENTIALS is loaded:\", google_credentials_path)\n",
    "\n",
    "# Verify the application default credentials\n",
    "# try:\n",
    "#     from google.auth import default\n",
    "#     credentials, project = default()\n",
    "#     print(\"Default credentials successfully loaded.\")\n",
    "#     print(\"Project:\", project)\n",
    "# except Exception as e:\n",
    "# print(\"Error:\", e)"
   ]
  },
  {
   "cell_type": "code",
   "execution_count": 5,
   "metadata": {},
   "outputs": [
    {
     "name": "stdout",
     "output_type": "stream",
     "text": [
      "[Model(name='models/text-bison-001',\n",
      "      base_model_id='',\n",
      "      version='001',\n",
      "      display_name='PaLM 2 (Legacy)',\n",
      "      description='A legacy model that understands text and generates text as an output',\n",
      "      input_token_limit=8196,\n",
      "      output_token_limit=1024,\n",
      "      supported_generation_methods=['generateText', 'countTextTokens', 'createTunedTextModel'],\n",
      "      temperature=0.7,\n",
      "      max_temperature=None,\n",
      "      top_p=0.95,\n",
      "      top_k=40)]\n"
     ]
    }
   ],
   "source": [
    "models = [m for m in genai.list_models() if 'generateText' in m.supported_generation_methods]\n",
    "model = models[0].name\n",
    "print(models)"
   ]
  },
  {
   "cell_type": "code",
   "execution_count": 87,
   "metadata": {},
   "outputs": [],
   "source": [
    "# Initialize the model\n",
    "# model = ChatGoogleGenerativeAI(model=\"gemini-1.5-flash\")"
   ]
  },
  {
   "cell_type": "code",
   "execution_count": 6,
   "metadata": {},
   "outputs": [
    {
     "name": "stdout",
     "output_type": "stream",
     "text": [
      "Response from model: I do not have access to real-time information, including the current time. To get the current time, I recommend checking a clock, your phone, or a reliable online time service. \n",
      "\n",
      "Elara was a curious girl, with a heart that yearned for adventure. She loved reading about faraway lands and fantastical creatures, dreaming of a life beyond her quiet village. One day, while rummaging in the attic, she stumbled upon a dusty, leather backpack tucked away in a forgotten corner. It was unlike any backpack she'd ever seen, adorned with intricate carvings of mythical beasts and shimmering with an almost iridescent glow. \n",
      "\n",
      "Elara was instantly captivated. She slung it over her shoulder, feeling a strange warmth radiating from it. As she walked through the village, the backpack felt lighter than air, as if it were defying gravity.  She reached into it, expecting to find nothing but dust, but her hand came away grasping a smooth, cool stone. \n",
      "\n",
      "Holding it up, Elara saw it wasn't just a stone. It was a miniature compass, etched with symbols she didn't recognize. It spun wildly, then pointed resolutely towards the east. A sense of excitement bubbled within her. The backpack was magic! It was a gateway to adventure, and she was determined to find out where it would take her.\n",
      "\n",
      "The next morning, Elara packed her essentials, her heart pounding with anticipation. The compass in the backpack spun again, guiding her towards a path leading out of the village. As she followed it, the world around her shifted. The familiar fields turned into sprawling meadows filled with exotic flowers, and the village rooftops gave way to a shimmering, turquoise sky.\n",
      "\n",
      "The backpack led her to a hidden valley, a place untouched by time. Giant trees, adorned with glowing blossoms, stretched towards the heavens. A crystal-clear stream flowed through the valley, its water bubbling with an ethereal light. \n",
      "\n",
      "In the valley, Elara met a community of people unlike any she had ever seen. They were friendly, welcoming her with open arms. They had wings, feathers of every color imaginable, and lived in harmony with the valley's magic. They told her that the backpack was a gift from their ancestors, a way to connect with those outside their hidden world.\n",
      "\n",
      "Elara spent weeks exploring the valley, learning about its secrets and the magic that pulsed within. She even learned to fly, gliding on the back of a majestic bird with wings as wide as the sky. But her heart yearned for home. \n",
      "\n",
      "One day, she held the compass in her hand, feeling its pull towards the west. She knew it was time to go back. The backpack, as if sensing her longing, shimmered, and a wave of warmth washed over her. In an instant, she was back in the familiar attic of her home.\n",
      "\n",
      "Elara's journey had changed her. She had seen things beyond her wildest dreams, felt a magic she never knew existed. She knew that the backpack would always be with her, a constant reminder of her extraordinary adventure. She had learned that the greatest journeys are often those that take us within ourselves, and that the magic we seek is always within reach, hidden in the most unexpected places. \n",
      "\n"
     ]
    }
   ],
   "source": [
    "# Use the Google Generative AI model\n",
    "chat_model = genai.GenerativeModel(\"gemini-1.5-flash\")\n",
    "\n",
    "# Example usage\n",
    "response = chat_model.generate_content(\"Hello, what time is it\")\n",
    "print(\"Response from model:\", response.text)\n",
    "\n",
    "response = chat_model.generate_content(\"Write a story about a magic backpack.\")\n",
    "print(response.text)\n"
   ]
  },
  {
   "cell_type": "code",
   "execution_count": 9,
   "metadata": {},
   "outputs": [
    {
     "name": "stdout",
     "output_type": "stream",
     "text": [
      "## Benefits of Artificial Intelligence in Healthcare:\n",
      "\n",
      "Artificial intelligence (AI) is revolutionizing healthcare, offering numerous benefits across various areas. Here's a breakdown:\n",
      "\n",
      "**Improved Diagnosis and Treatment:**\n",
      "\n",
      "* **Early disease detection:** AI can analyze medical images, lab reports, and patient data to detect early signs of diseases like cancer or cardiovascular disease.\n",
      "* **Personalized treatment plans:** AI algorithms can analyze individual patient data to recommend customized treatment plans, improving treatment outcomes and reducing adverse events.\n",
      "* **Drug discovery and development:** AI can accelerate the process of identifying and testing potential drug candidates, leading to faster development of new treatments.\n",
      "\n",
      "**Enhanced Patient Care:**\n",
      "\n",
      "* **24/7 availability:** AI-powered chatbots and virtual assistants can provide patients with immediate support, answering questions and providing basic medical advice.\n",
      "* **Efficient workflow management:** AI can automate administrative tasks like scheduling appointments and generating reports, freeing up healthcare professionals to focus on patient care.\n",
      "* **Remote monitoring and management:** AI-powered devices can monitor patients' vital signs remotely and alert healthcare professionals to potential issues.\n",
      "\n",
      "**Cost Reduction and Efficiency:**\n",
      "\n",
      "* **Reduced administrative costs:** Automating administrative tasks can significantly lower healthcare costs.\n",
      "* **Improved resource allocation:** AI can analyze patient data to identify trends and optimize resource allocation.\n",
      "* **Minimized errors:** AI can help identify and reduce human errors in diagnosis and treatment.\n",
      "\n",
      "**Other Benefits:**\n",
      "\n",
      "* **Improved access to healthcare:** AI can expand access to healthcare in underserved areas by providing virtual consultations and remote monitoring.\n",
      "* **Empowered healthcare professionals:** AI can assist healthcare professionals in making informed decisions by providing data-driven insights and recommendations.\n",
      "* **Enhanced patient engagement:** AI can help patients better understand their conditions and engage actively in their treatment.\n",
      "\n",
      "**Challenges and Considerations:**\n",
      "\n",
      "* **Data privacy and security:** Ensuring secure handling of sensitive patient data is crucial.\n",
      "* **Ethical considerations:** Addressing issues like bias in AI algorithms and ensuring responsible use.\n",
      "* **Lack of transparency:** Understanding how AI algorithms reach their conclusions is essential for trust and accountability.\n",
      "\n",
      "Despite the challenges, AI holds immense potential to transform healthcare, leading to better outcomes, reduced costs, and improved patient care. It's a crucial area of focus for the future of healthcare.\n",
      "\n"
     ]
    }
   ],
   "source": [
    "response = chat_model.generate_content(\"What are the benefits of using artificial intelligence in healthcare?\")\n",
    "print(response.text)"
   ]
  },
  {
   "cell_type": "code",
   "execution_count": 10,
   "metadata": {},
   "outputs": [
    {
     "name": "stdout",
     "output_type": "stream",
     "text": [
      "['Any', 'BaseLLM', 'Callable', 'Dict', 'LangChainDeprecationWarning', 'Type', '__all__', '__builtins__', '__cached__', '__doc__', '__file__', '__getattr__', '__loader__', '__name__', '__package__', '__path__', '__spec__', '_import_ai21', '_import_aleph_alpha', '_import_amazon_api_gateway', '_import_anthropic', '_import_anyscale', '_import_arcee', '_import_aviary', '_import_azure_openai', '_import_azureml_endpoint', '_import_baidu_qianfan_endpoint', '_import_bananadev', '_import_baseten', '_import_beam', '_import_bedrock', '_import_bittensor', '_import_cerebriumai', '_import_chatglm', '_import_clarifai', '_import_cohere', '_import_ctransformers', '_import_ctranslate2', '_import_databricks', '_import_databricks_chat', '_import_deepinfra', '_import_deepsparse', '_import_edenai', '_import_fake', '_import_fireworks', '_import_forefrontai', '_import_gigachat', '_import_google_palm', '_import_gooseai', '_import_gpt4all', '_import_gradient_ai', '_import_huggingface_endpoint', '_import_huggingface_hub', '_import_huggingface_pipeline', '_import_huggingface_text_gen_inference', '_import_human', '_import_javelin_ai_gateway', '_import_koboldai', '_import_llamacpp', '_import_manifest', '_import_minimax', '_import_mlflow', '_import_mlflow_ai_gateway', '_import_mlflow_chat', '_import_modal', '_import_mosaicml', '_import_nlpcloud', '_import_octoai_endpoint', '_import_ollama', '_import_opaqueprompts', '_import_openai', '_import_openai_chat', '_import_openllm', '_import_openlm', '_import_pai_eas_endpoint', '_import_petals', '_import_pipelineai', '_import_predibase', '_import_predictionguard', '_import_promptlayer', '_import_promptlayer_chat', '_import_replicate', '_import_rwkv', '_import_sagemaker_endpoint', '_import_self_hosted', '_import_self_hosted_hugging_face', '_import_stochasticai', '_import_symblai_nebula', '_import_textgen', '_import_titan_takeoff', '_import_titan_takeoff_pro', '_import_together', '_import_tongyi', '_import_vertex', '_import_vertex_model_garden', '_import_vllm', '_import_vllm_openai', '_import_volcengine_maas', '_import_watsonxllm', '_import_writer', '_import_xinference', '_import_yandex_gpt', 'get_type_to_cls_dict', 'is_interactive_env', 'warnings']\n"
     ]
    }
   ],
   "source": [
    "import langchain.llms as llms\n",
    "\n",
    "print(dir(llms))"
   ]
  },
  {
   "cell_type": "code",
   "execution_count": null,
   "metadata": {},
   "outputs": [],
   "source": []
  }
 ],
 "metadata": {
  "kernelspec": {
   "display_name": "Python 3",
   "language": "python",
   "name": "python3"
  },
  "language_info": {
   "codemirror_mode": {
    "name": "ipython",
    "version": 3
   },
   "file_extension": ".py",
   "mimetype": "text/x-python",
   "name": "python",
   "nbconvert_exporter": "python",
   "pygments_lexer": "ipython3",
   "version": "3.13.0"
  }
 },
 "nbformat": 4,
 "nbformat_minor": 2
}
