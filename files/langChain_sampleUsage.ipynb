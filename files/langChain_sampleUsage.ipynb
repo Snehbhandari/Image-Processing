{
 "cells": [
  {
   "cell_type": "code",
   "execution_count": 1,
   "metadata": {},
   "outputs": [],
   "source": [
    "import numpy as np\n",
    "import os \n",
    "from dotenv import load_dotenv\n",
    "import google.generativeai as genai\n",
    "from langchain_core.messages import HumanMessage\n",
    "from langchain_google_genai import ChatGoogleGenerativeAI"
   ]
  },
  {
   "cell_type": "code",
   "execution_count": 2,
   "metadata": {},
   "outputs": [
    {
     "data": {
      "text/plain": [
       "True"
      ]
     },
     "execution_count": 2,
     "metadata": {},
     "output_type": "execute_result"
    }
   ],
   "source": [
    "load_dotenv()"
   ]
  },
  {
   "cell_type": "code",
   "execution_count": 89,
   "metadata": {},
   "outputs": [],
   "source": [
    "# Access the Google Application Credentials - checking\n",
    "# google_credentials_path = os.getenv(\"GOOGLE_APPLICATION_CREDENTIALS\")\n",
    "# if google_credentials_path is None:\n",
    "#     print(\"GOOGLE_APPLICATION_CREDENTIALS is not set.\")\n",
    "# else:\n",
    "#     print(\"GOOGLE_APPLICATION_CREDENTIALS is loaded:\", google_credentials_path)\n",
    "\n",
    "# Verify the application default credentials\n",
    "# try:\n",
    "#     from google.auth import default\n",
    "#     credentials, project = default()\n",
    "#     print(\"Default credentials successfully loaded.\")\n",
    "#     print(\"Project:\", project)\n",
    "# except Exception as e:\n",
    "# print(\"Error:\", e)"
   ]
  },
  {
   "cell_type": "code",
   "execution_count": 3,
   "metadata": {},
   "outputs": [
    {
     "name": "stdout",
     "output_type": "stream",
     "text": [
      "[Model(name='models/text-bison-001',\n",
      "      base_model_id='',\n",
      "      version='001',\n",
      "      display_name='PaLM 2 (Legacy)',\n",
      "      description='A legacy model that understands text and generates text as an output',\n",
      "      input_token_limit=8196,\n",
      "      output_token_limit=1024,\n",
      "      supported_generation_methods=['generateText', 'countTextTokens', 'createTunedTextModel'],\n",
      "      temperature=0.7,\n",
      "      max_temperature=None,\n",
      "      top_p=0.95,\n",
      "      top_k=40)]\n"
     ]
    }
   ],
   "source": [
    "models = [m for m in genai.list_models() if 'generateText' in m.supported_generation_methods]\n",
    "model = models[0].name\n",
    "print(models)"
   ]
  },
  {
   "cell_type": "code",
   "execution_count": 87,
   "metadata": {},
   "outputs": [],
   "source": [
    "# Initialize the model\n",
    "# model = ChatGoogleGenerativeAI(model=\"gemini-1.5-flash\")"
   ]
  },
  {
   "cell_type": "code",
   "execution_count": 4,
   "metadata": {},
   "outputs": [
    {
     "name": "stdout",
     "output_type": "stream",
     "text": [
      "Response from model: I do not have access to real-time information, including the current time. To get the current time, I recommend checking a clock, your phone, or an online time service. \n",
      "\n",
      "Elara, a wisp of a girl with eyes the color of storm clouds, had always dreamt of adventure. Her village, nestled in the shadow of a towering mountain, offered little more than the familiar humdrum of daily life. But Elara yearned for something more, something grand. Then, on her twelfth birthday, her grandmother, a woman whose wisdom rivaled the age of the mountain itself, presented her with a gift.\n",
      "\n",
      "It was a simple, worn leather backpack, its straps frayed at the edges. \"This, my dear,\" her grandmother said, her voice like the rustling of autumn leaves, \"is a magic backpack. It will take you anywhere you desire, but be warned, Elara. It comes with a price.\"\n",
      "\n",
      "Elara was ecstatic. With a backpack that could take her anywhere, she could finally escape the confines of her village. She packed her meager belongings, a worn map of the world, and a crusty loaf of bread her grandmother had baked. Then, she stepped into the backpack, closed her eyes, and whispered, \"The farthest land beyond the sea.\"\n",
      "\n",
      "When she opened her eyes, she was standing on a beach of shimmering silver sand, the air filled with the scent of salt and adventure. Elara spent the next few days exploring this wondrous land, its strange flora and fauna a constant source of wonder. But, as the sun began to set, a chill crept into the air, and Elara realized she was hungry. She rummaged through her pack, only to find it empty.\n",
      "\n",
      "\"Where is my bread?\" she whispered, fear rising in her throat. The backpack, once a beacon of hope, now seemed menacing.\n",
      "\n",
      "Suddenly, a voice, deep and resonant, boomed from within the backpack. \"You took something from me, child,\" it growled. \"Now, you must pay.\"\n",
      "\n",
      "Elara's heart hammered against her ribs. She realized the price her grandmother had mentioned was not just the cost of travel, but the price of her own sustenance. The backpack was not a benevolent entity, but a demanding one, its magic fueled by the life force of those who ventured within its confines.\n",
      "\n",
      "With a trembling hand, Elara reached into the backpack, knowing she had to appease the creature within. She pulled out a small, withered flower, the only thing she had left, and offered it to the backpack. The voice sighed, its hunger momentarily appeased.\n",
      "\n",
      "Elara learned to live with the backpack, its demands her constant companion. She travelled far and wide, experiencing the world's wonders, yet always burdened by the weight of its hunger. She saw the magnificence of ancient cities, the splendor of snow-capped mountains, the vastness of endless deserts. But with each new adventure, the backpack's demands grew, pushing her closer to the brink of her own exhaustion.\n",
      "\n",
      "One day, Elara found herself in a forest of whispering willows, their branches tangled like the threads of a forgotten story. She felt weak, her body drained by the backpack's insatiable appetite. She stumbled upon a small, dilapidated hut, its windows boarded up, its roof sagging under the weight of years.\n",
      "\n",
      "Inside, she found an old woman, her face etched with the lines of a life well-lived. The woman, sensing Elara's plight, listened to her tale, her eyes mirroring the wisdom of the ancient trees. \"The backpack feeds on your vitality,\" the old woman said. \"But it also thirsts for knowledge. Share your experiences, Elara, your adventures, your dreams. Fill it with the richness of your soul, not just the offerings of your body.\"\n",
      "\n",
      "Elara, desperate, heeded the old woman's advice. She began to tell her stories, weaving tales of her journeys, her laughter, her tears, her triumphs and her failures. As she spoke, the backpack seemed to shift, its leather glowing with an ethereal light. The voice within softened, replaced by a sense of quiet satisfaction.\n",
      "\n",
      "From then on, Elara continued her travels, but now, the backpack felt different. It no longer demanded sustenance; instead, it craved stories, yearning for the knowledge that filled Elara's heart. She learned that true adventure wasn't just about the destination, but the journey itself, the memories, the experiences that shaped her soul.\n",
      "\n",
      "Elara never forgot the price of her magic backpack, but she discovered that the greatest gift was not the ability to travel, but the ability to share her experiences, to connect with the world and its wonders, and to find her own unique path through the tapestry of life. And she knew, deep down, that her adventures were only just beginning. \n",
      "\n"
     ]
    }
   ],
   "source": [
    "# Use the Google Generative AI model\n",
    "chat_model = genai.GenerativeModel(\"gemini-1.5-flash\")\n",
    "\n",
    "# Example usage\n",
    "response = chat_model.generate_content(\"Hello, what time is it\")\n",
    "print(\"Response from model:\", response.text)\n",
    "\n",
    "response = chat_model.generate_content(\"Write a story about a magic backpack.\")\n",
    "print(response.text)\n"
   ]
  },
  {
   "cell_type": "code",
   "execution_count": 5,
   "metadata": {},
   "outputs": [
    {
     "name": "stdout",
     "output_type": "stream",
     "text": [
      "## Benefits of Artificial Intelligence in Healthcare:\n",
      "\n",
      "Artificial intelligence (AI) is revolutionizing healthcare, offering numerous benefits across various aspects of patient care and medical research. Here are some key advantages:\n",
      "\n",
      "**Improved Diagnosis and Treatment:**\n",
      "\n",
      "* **Early detection:** AI algorithms can analyze vast amounts of medical data to identify patterns and predict potential health risks, enabling early detection and intervention.\n",
      "* **Accurate diagnosis:** AI-powered tools can assist doctors in making faster and more accurate diagnoses by analyzing medical images, lab results, and patient history.\n",
      "* **Personalized treatment plans:** AI can help tailor treatment plans based on individual patient characteristics, genetic profiles, and lifestyle factors, leading to more effective and targeted therapies.\n",
      "\n",
      "**Enhanced Efficiency and Productivity:**\n",
      "\n",
      "* **Automated tasks:** AI can automate routine tasks like scheduling appointments, processing medical claims, and managing patient records, freeing up healthcare professionals to focus on more complex tasks.\n",
      "* **Improved workflow:** AI-powered systems can streamline workflows and enhance communication within healthcare teams, leading to increased efficiency and reduced errors.\n",
      "* **Reduced administrative burden:** AI can automate administrative tasks, reducing the workload on healthcare professionals and freeing up time for patient care.\n",
      "\n",
      "**Better Patient Care:**\n",
      "\n",
      "* **Real-time monitoring:** AI can monitor patients remotely, analyzing vital signs and other data to identify potential issues and alert healthcare providers promptly.\n",
      "* **Improved patient engagement:** AI-powered chatbots and virtual assistants can provide patients with personalized health information, answer questions, and offer support, increasing patient engagement and satisfaction.\n",
      "* **Enhanced accessibility:** AI can extend healthcare services to underserved populations, including remote areas, through telemedicine platforms and virtual care solutions.\n",
      "\n",
      "**Advancements in Research and Drug Discovery:**\n",
      "\n",
      "* **Accelerated research:** AI can analyze large datasets to identify potential drug targets and develop new therapies more efficiently.\n",
      "* **Drug development optimization:** AI can simulate drug interactions and predict their effectiveness, reducing the time and cost of drug development.\n",
      "* **Personalized medicine:** AI can help create personalized therapies based on individual patient genetics and other factors, leading to more effective treatments and fewer side effects.\n",
      "\n",
      "**Other Potential Benefits:**\n",
      "\n",
      "* **Cost reduction:** AI can help reduce healthcare costs by improving efficiency, reducing errors, and optimizing resource allocation.\n",
      "* **Improved patient safety:** AI can identify potential risks and complications, allowing for proactive interventions to ensure patient safety.\n",
      "* **Increased access to healthcare:** AI can help extend healthcare services to remote areas and underserved populations, improving overall access to healthcare.\n",
      "\n",
      "While AI offers significant potential in healthcare, it's important to acknowledge the need for responsible development and ethical considerations to ensure its benefits are maximized and potential risks are minimized.\n",
      "\n"
     ]
    }
   ],
   "source": [
    "response = chat_model.generate_content(\"What are the benefits of using artificial intelligence in healthcare?\")\n",
    "print(response.text)"
   ]
  },
  {
   "cell_type": "code",
   "execution_count": 6,
   "metadata": {},
   "outputs": [
    {
     "name": "stdout",
     "output_type": "stream",
     "text": [
      "['Any', 'BaseLLM', 'Callable', 'Dict', 'LangChainDeprecationWarning', 'Type', '__all__', '__builtins__', '__cached__', '__doc__', '__file__', '__getattr__', '__loader__', '__name__', '__package__', '__path__', '__spec__', '_import_ai21', '_import_aleph_alpha', '_import_amazon_api_gateway', '_import_anthropic', '_import_anyscale', '_import_arcee', '_import_aviary', '_import_azure_openai', '_import_azureml_endpoint', '_import_baidu_qianfan_endpoint', '_import_bananadev', '_import_baseten', '_import_beam', '_import_bedrock', '_import_bittensor', '_import_cerebriumai', '_import_chatglm', '_import_clarifai', '_import_cohere', '_import_ctransformers', '_import_ctranslate2', '_import_databricks', '_import_databricks_chat', '_import_deepinfra', '_import_deepsparse', '_import_edenai', '_import_fake', '_import_fireworks', '_import_forefrontai', '_import_gigachat', '_import_google_palm', '_import_gooseai', '_import_gpt4all', '_import_gradient_ai', '_import_huggingface_endpoint', '_import_huggingface_hub', '_import_huggingface_pipeline', '_import_huggingface_text_gen_inference', '_import_human', '_import_javelin_ai_gateway', '_import_koboldai', '_import_llamacpp', '_import_manifest', '_import_minimax', '_import_mlflow', '_import_mlflow_ai_gateway', '_import_mlflow_chat', '_import_modal', '_import_mosaicml', '_import_nlpcloud', '_import_octoai_endpoint', '_import_ollama', '_import_opaqueprompts', '_import_openai', '_import_openai_chat', '_import_openllm', '_import_openlm', '_import_pai_eas_endpoint', '_import_petals', '_import_pipelineai', '_import_predibase', '_import_predictionguard', '_import_promptlayer', '_import_promptlayer_chat', '_import_replicate', '_import_rwkv', '_import_sagemaker_endpoint', '_import_self_hosted', '_import_self_hosted_hugging_face', '_import_stochasticai', '_import_symblai_nebula', '_import_textgen', '_import_titan_takeoff', '_import_titan_takeoff_pro', '_import_together', '_import_tongyi', '_import_vertex', '_import_vertex_model_garden', '_import_vllm', '_import_vllm_openai', '_import_volcengine_maas', '_import_watsonxllm', '_import_writer', '_import_xinference', '_import_yandex_gpt', 'get_type_to_cls_dict', 'is_interactive_env', 'warnings']\n"
     ]
    }
   ],
   "source": [
    "import langchain.llms as llms\n",
    "\n",
    "print(dir(llms))"
   ]
  },
  {
   "cell_type": "code",
   "execution_count": 9,
   "metadata": {},
   "outputs": [
    {
     "name": "stdout",
     "output_type": "stream",
     "text": [
      "This is not an instrument, it is a fruit, specifically an apple. It's a variety of apple known as the **\"Black Diamond\" apple**. \n",
      "\n",
      "These apples are known for their dark, almost black skin and are said to have a sweet, slightly tart flavor.  They are grown in the Himalayan region of India. \n",
      "\n"
     ]
    }
   ],
   "source": [
    "import PIL.Image\n",
    "\n",
    "model = genai.GenerativeModel(\"gemini-1.5-flash\")\n",
    "organ = PIL.Image.open(\"/MY_data/test/apple/img_31.jpeg/\")\n",
    "response = model.generate_content([\"Tell me about this instrument\", organ])\n",
    "print(response.text)"
   ]
  },
  {
   "cell_type": "code",
   "execution_count": null,
   "metadata": {},
   "outputs": [],
   "source": []
  }
 ],
 "metadata": {
  "kernelspec": {
   "display_name": "Python 3",
   "language": "python",
   "name": "python3"
  },
  "language_info": {
   "codemirror_mode": {
    "name": "ipython",
    "version": 3
   },
   "file_extension": ".py",
   "mimetype": "text/x-python",
   "name": "python",
   "nbconvert_exporter": "python",
   "pygments_lexer": "ipython3",
   "version": "3.13.0"
  }
 },
 "nbformat": 4,
 "nbformat_minor": 2
}
